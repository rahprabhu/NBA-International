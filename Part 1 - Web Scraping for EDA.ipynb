{
 "cells": [
  {
   "cell_type": "markdown",
   "id": "fee5f6c5",
   "metadata": {},
   "source": [
    "## Scraping the List of International Players to Play in the NBA\n",
    "\n",
    "The list of all international players to appear in the NBA can be found on Wikipedia, so we will start by scraping the Wikipedia table that the data lives in.\n",
    "\n",
    "Link to Wikipedia table: https://en.wikipedia.org/wiki/List_of_NBA_players_born_outside_the_United_States"
   ]
  },
  {
   "cell_type": "markdown",
   "id": "a3147d9b",
   "metadata": {},
   "source": [
    "#### Importing Packages"
   ]
  },
  {
   "cell_type": "code",
   "execution_count": 1,
   "id": "daac15a8",
   "metadata": {},
   "outputs": [],
   "source": [
    "from bs4 import BeautifulSoup\n",
    "import requests\n",
    "import pandas as pd"
   ]
  },
  {
   "cell_type": "markdown",
   "id": "c9e4c190",
   "metadata": {},
   "source": [
    "#### Scraping Wikipedia"
   ]
  },
  {
   "cell_type": "code",
   "execution_count": 2,
   "id": "746c41c8",
   "metadata": {},
   "outputs": [],
   "source": [
    "wiki_url = 'https://en.wikipedia.org/wiki/List_of_NBA_players_born_outside_the_United_States'\n",
    "response = requests.get(wiki_url)\n",
    "soup = BeautifulSoup(response.text, 'html.parser')\n",
    "table = soup.find_all('table', {'class': \"wikitable\"})[6]"
   ]
  },
  {
   "cell_type": "markdown",
   "id": "64a6c4bd",
   "metadata": {},
   "source": [
    "#### Creating the Players Dataframe"
   ]
  },
  {
   "cell_type": "code",
   "execution_count": 3,
   "id": "a4a72567",
   "metadata": {},
   "outputs": [
    {
     "data": {
      "text/html": [
       "<div>\n",
       "<style scoped>\n",
       "    .dataframe tbody tr th:only-of-type {\n",
       "        vertical-align: middle;\n",
       "    }\n",
       "\n",
       "    .dataframe tbody tr th {\n",
       "        vertical-align: top;\n",
       "    }\n",
       "\n",
       "    .dataframe thead th {\n",
       "        text-align: right;\n",
       "    }\n",
       "</style>\n",
       "<table border=\"1\" class=\"dataframe\">\n",
       "  <thead>\n",
       "    <tr style=\"text-align: right;\">\n",
       "      <th></th>\n",
       "      <th>Nationality[A]</th>\n",
       "      <th>Birthplace[B]</th>\n",
       "      <th>Player</th>\n",
       "      <th>Career[C]</th>\n",
       "      <th>Yrs</th>\n",
       "      <th>Notes</th>\n",
       "    </tr>\n",
       "  </thead>\n",
       "  <tbody>\n",
       "    <tr>\n",
       "      <th>0</th>\n",
       "      <td>Angola</td>\n",
       "      <td>—</td>\n",
       "      <td>Bruno Fernando*</td>\n",
       "      <td>2019–present</td>\n",
       "      <td>3</td>\n",
       "      <td>—</td>\n",
       "    </tr>\n",
       "    <tr>\n",
       "      <th>1</th>\n",
       "      <td>Antigua and Barbuda</td>\n",
       "      <td>United States</td>\n",
       "      <td>Julius Hodge</td>\n",
       "      <td>2005–2007</td>\n",
       "      <td>2</td>\n",
       "      <td>Born in the United States, became a naturalize...</td>\n",
       "    </tr>\n",
       "    <tr>\n",
       "      <th>2</th>\n",
       "      <td>Argentina</td>\n",
       "      <td>—</td>\n",
       "      <td>Leandro Bolmaro*</td>\n",
       "      <td>2021–present</td>\n",
       "      <td>1</td>\n",
       "      <td>Also holds Italian citizenship.[13]</td>\n",
       "    </tr>\n",
       "    <tr>\n",
       "      <th>3</th>\n",
       "      <td>Argentina</td>\n",
       "      <td>—</td>\n",
       "      <td>Nicolás Brussino</td>\n",
       "      <td>2016–2017</td>\n",
       "      <td>2</td>\n",
       "      <td>Also holds Italian citizenship.</td>\n",
       "    </tr>\n",
       "    <tr>\n",
       "      <th>4</th>\n",
       "      <td>Argentina</td>\n",
       "      <td>—</td>\n",
       "      <td>Facundo Campazzo*</td>\n",
       "      <td>2020–present</td>\n",
       "      <td>2</td>\n",
       "      <td>—</td>\n",
       "    </tr>\n",
       "  </tbody>\n",
       "</table>\n",
       "</div>"
      ],
      "text/plain": [
       "        Nationality[A]  Birthplace[B]             Player     Career[C]  Yrs  \\\n",
       "0               Angola              —    Bruno Fernando*  2019–present    3   \n",
       "1  Antigua and Barbuda  United States       Julius Hodge     2005–2007    2   \n",
       "2            Argentina              —   Leandro Bolmaro*  2021–present    1   \n",
       "3            Argentina              —   Nicolás Brussino     2016–2017    2   \n",
       "4            Argentina              —  Facundo Campazzo*  2020–present    2   \n",
       "\n",
       "                                               Notes  \n",
       "0                                                  —  \n",
       "1  Born in the United States, became a naturalize...  \n",
       "2                Also holds Italian citizenship.[13]  \n",
       "3                    Also holds Italian citizenship.  \n",
       "4                                                  —  "
      ]
     },
     "execution_count": 3,
     "metadata": {},
     "output_type": "execute_result"
    }
   ],
   "source": [
    "players = pd.read_html(str(table))\n",
    "players = pd.DataFrame(players[0])\n",
    "players = players.iloc[:,0:7]\n",
    "\n",
    "# Dropping the position column, as I will pull that from Basketball Reference\n",
    "players = players.drop(players.columns[3], axis=1)\n",
    "players.head()"
   ]
  },
  {
   "cell_type": "code",
   "execution_count": 4,
   "id": "02f46d67",
   "metadata": {},
   "outputs": [
    {
     "name": "stderr",
     "output_type": "stream",
     "text": [
      "C:\\Users\\Rahul\\AppData\\Local\\Temp/ipykernel_30988/3298178468.py:2: FutureWarning: The default value of regex will change from True to False in a future version.\n",
      "  players.columns = players.columns.str.replace(r'\\[.*\\]','')\n"
     ]
    },
    {
     "data": {
      "text/html": [
       "<div>\n",
       "<style scoped>\n",
       "    .dataframe tbody tr th:only-of-type {\n",
       "        vertical-align: middle;\n",
       "    }\n",
       "\n",
       "    .dataframe tbody tr th {\n",
       "        vertical-align: top;\n",
       "    }\n",
       "\n",
       "    .dataframe thead th {\n",
       "        text-align: right;\n",
       "    }\n",
       "</style>\n",
       "<table border=\"1\" class=\"dataframe\">\n",
       "  <thead>\n",
       "    <tr style=\"text-align: right;\">\n",
       "      <th></th>\n",
       "      <th>Nationality</th>\n",
       "      <th>Birthplace</th>\n",
       "      <th>Player</th>\n",
       "      <th>Career</th>\n",
       "      <th>Yrs</th>\n",
       "      <th>Notes</th>\n",
       "    </tr>\n",
       "  </thead>\n",
       "  <tbody>\n",
       "    <tr>\n",
       "      <th>627</th>\n",
       "      <td>U.S. Virgin Islands</td>\n",
       "      <td>—</td>\n",
       "      <td>Charles Claxton</td>\n",
       "      <td>1995</td>\n",
       "      <td>1</td>\n",
       "      <td>—</td>\n",
       "    </tr>\n",
       "    <tr>\n",
       "      <th>628</th>\n",
       "      <td>U.S. Virgin Islands</td>\n",
       "      <td>United States</td>\n",
       "      <td>Nic Claxton*</td>\n",
       "      <td>2019–present</td>\n",
       "      <td>3</td>\n",
       "      <td>Born on the United States mainland by U.S. Vir...</td>\n",
       "    </tr>\n",
       "    <tr>\n",
       "      <th>629</th>\n",
       "      <td>U.S. Virgin Islands</td>\n",
       "      <td>United States</td>\n",
       "      <td>David Vanterpool</td>\n",
       "      <td>2001</td>\n",
       "      <td>1</td>\n",
       "      <td>Born on the United States mainland, represents...</td>\n",
       "    </tr>\n",
       "    <tr>\n",
       "      <th>630</th>\n",
       "      <td>Uruguay</td>\n",
       "      <td>—</td>\n",
       "      <td>Esteban Batista</td>\n",
       "      <td>2005–2007</td>\n",
       "      <td>2</td>\n",
       "      <td>—</td>\n",
       "    </tr>\n",
       "    <tr>\n",
       "      <th>631</th>\n",
       "      <td>Venezuela</td>\n",
       "      <td>Trinidad and Tobago</td>\n",
       "      <td>Carl Herrera</td>\n",
       "      <td>1991–1999</td>\n",
       "      <td>8</td>\n",
       "      <td>Born in Trinidad and Tobago, represented Venez...</td>\n",
       "    </tr>\n",
       "    <tr>\n",
       "      <th>632</th>\n",
       "      <td>Venezuela</td>\n",
       "      <td>United States</td>\n",
       "      <td>Askia Jones</td>\n",
       "      <td>1994</td>\n",
       "      <td>1</td>\n",
       "      <td>Born in the United States, represented Venezue...</td>\n",
       "    </tr>\n",
       "    <tr>\n",
       "      <th>633</th>\n",
       "      <td>Venezuela</td>\n",
       "      <td>United States</td>\n",
       "      <td>Harold Keeling</td>\n",
       "      <td>1986</td>\n",
       "      <td>1</td>\n",
       "      <td>Born in the United States, represented Venezue...</td>\n",
       "    </tr>\n",
       "    <tr>\n",
       "      <th>634</th>\n",
       "      <td>Venezuela</td>\n",
       "      <td>United States</td>\n",
       "      <td>Donta Smith</td>\n",
       "      <td>2004–2006</td>\n",
       "      <td>2</td>\n",
       "      <td>Born on the United States, represented Venezuela.</td>\n",
       "    </tr>\n",
       "    <tr>\n",
       "      <th>635</th>\n",
       "      <td>Venezuela</td>\n",
       "      <td>—</td>\n",
       "      <td>Óscar Torres</td>\n",
       "      <td>2001–2002</td>\n",
       "      <td>2</td>\n",
       "      <td>—</td>\n",
       "    </tr>\n",
       "    <tr>\n",
       "      <th>636</th>\n",
       "      <td>Venezuela</td>\n",
       "      <td>—</td>\n",
       "      <td>Greivis Vásquez</td>\n",
       "      <td>2010–2016</td>\n",
       "      <td>7</td>\n",
       "      <td>—</td>\n",
       "    </tr>\n",
       "  </tbody>\n",
       "</table>\n",
       "</div>"
      ],
      "text/plain": [
       "             Nationality           Birthplace            Player        Career  \\\n",
       "627  U.S. Virgin Islands                    —   Charles Claxton          1995   \n",
       "628  U.S. Virgin Islands        United States      Nic Claxton*  2019–present   \n",
       "629  U.S. Virgin Islands        United States  David Vanterpool          2001   \n",
       "630              Uruguay                    —   Esteban Batista     2005–2007   \n",
       "631            Venezuela  Trinidad and Tobago      Carl Herrera     1991–1999   \n",
       "632            Venezuela        United States       Askia Jones          1994   \n",
       "633            Venezuela        United States    Harold Keeling          1986   \n",
       "634            Venezuela        United States       Donta Smith     2004–2006   \n",
       "635            Venezuela                    —      Óscar Torres     2001–2002   \n",
       "636            Venezuela                    —   Greivis Vásquez     2010–2016   \n",
       "\n",
       "     Yrs                                              Notes  \n",
       "627    1                                                  —  \n",
       "628    3  Born on the United States mainland by U.S. Vir...  \n",
       "629    1  Born on the United States mainland, represents...  \n",
       "630    2                                                  —  \n",
       "631    8  Born in Trinidad and Tobago, represented Venez...  \n",
       "632    1  Born in the United States, represented Venezue...  \n",
       "633    1  Born in the United States, represented Venezue...  \n",
       "634    2  Born on the United States, represented Venezuela.  \n",
       "635    2                                                  —  \n",
       "636    7                                                  —  "
      ]
     },
     "execution_count": 4,
     "metadata": {},
     "output_type": "execute_result"
    }
   ],
   "source": [
    "# Cleaning the column names\n",
    "players.columns = players.columns.str.replace(r'\\[.*\\]','')\n",
    "players.tail(10)"
   ]
  },
  {
   "cell_type": "code",
   "execution_count": 5,
   "id": "ff9e7473",
   "metadata": {},
   "outputs": [],
   "source": [
    "# Save to csv\n",
    "players.to_csv(r'Documents\\International Players.csv', index = False)"
   ]
  },
  {
   "cell_type": "markdown",
   "id": "f02ba240",
   "metadata": {},
   "source": [
    "### Scraping Player Stats from Basketball Reference\n",
    "\n",
    "We will pull advanced stats and per 100 possession stats for our analysis. Advanced stats pages are available dating back to 1950, however not all advanced stat categories are populated dating back to 1950. Per 100 possession stats are available dating back to 1974. Advanced stats will help us answer which players contributed the most to winning games. Per 100 possession stats will enable us to compare players while adjusting for the pace of the game and minutes played per game.  \n",
    "\n",
    "- Example Advanced Stats page: https://www.basketball-reference.com/leagues/NBA_2020_advanced.html\n",
    "- Example Per 100 Possessions page: https://www.basketball-reference.com/leagues/NBA_2020_per_poss.html"
   ]
  },
  {
   "cell_type": "markdown",
   "id": "e2341f3c",
   "metadata": {},
   "source": [
    "#### Scraping Advanced Stats"
   ]
  },
  {
   "cell_type": "code",
   "execution_count": 6,
   "id": "6ea30fda",
   "metadata": {},
   "outputs": [],
   "source": [
    "# We will pull advanced stats from 1950 through the current 2022 season \n",
    "\n",
    "years = list(range(1950,2023))\n",
    "\n",
    "advanced_stats_url = \"https://www.basketball-reference.com/leagues/NBA_{}_advanced.html\"\n",
    "\n",
    "for year in years:\n",
    "    url = advanced_stats_url.format(year)\n",
    "    data = requests.get(url)\n",
    "    \n",
    "    with open(\"Basketball Reference/{}_Advanced.html\".format(year), \"w+\", encoding=\"utf-8\") as f:\n",
    "        f.write(data.text)"
   ]
  },
  {
   "cell_type": "markdown",
   "id": "8cc792a6",
   "metadata": {},
   "source": [
    "#### Creating the Advanced Stats Dataframe"
   ]
  },
  {
   "cell_type": "code",
   "execution_count": 7,
   "id": "0f2b5b75",
   "metadata": {},
   "outputs": [],
   "source": [
    "# Saving the html pages to a dataframe\n",
    "dfs = []\n",
    "for year in years:\n",
    "    with open(\"Basketball Reference/{}_Advanced.html\".format(year), encoding = \"utf-8\") as f:\n",
    "        page = f.read()\n",
    "    \n",
    "    soup = BeautifulSoup(page, 'html.parser')\n",
    "    advanced_table = soup.find_all(id=\"advanced_stats\")\n",
    "    advanced_df = pd.read_html(str(advanced_table))[0]\n",
    "    advanced_df[\"Year\"] = year\n",
    "    dfs.append(advanced_df)"
   ]
  },
  {
   "cell_type": "code",
   "execution_count": 8,
   "id": "c75d1b46",
   "metadata": {},
   "outputs": [],
   "source": [
    "advanced_stats = pd.concat(dfs)"
   ]
  },
  {
   "cell_type": "code",
   "execution_count": 9,
   "id": "8ef27076",
   "metadata": {},
   "outputs": [],
   "source": [
    "# Save to csv\n",
    "advanced_stats.to_csv(r'Documents\\Advanced Stats.csv', index = False)"
   ]
  },
  {
   "cell_type": "markdown",
   "id": "1cf76f54",
   "metadata": {},
   "source": [
    "#### Scraping Per 100 Possession Stats"
   ]
  },
  {
   "cell_type": "code",
   "execution_count": 10,
   "id": "66002440",
   "metadata": {},
   "outputs": [],
   "source": [
    "# We will pull per 100 possession stats from 1974 through the current 2022 season \n",
    "\n",
    "years = list(range(1974,2023))\n",
    "\n",
    "per_poss_url = \"https://www.basketball-reference.com/leagues/NBA_{}_per_poss.html\"\n",
    "\n",
    "for year in years:\n",
    "    url = per_poss_url.format(year)\n",
    "    data = requests.get(url)\n",
    "    \n",
    "    with open(\"Basketball Reference/{}_Per_Poss.html\".format(year), \"w+\", encoding=\"utf-8\") as f:\n",
    "        f.write(data.text)"
   ]
  },
  {
   "cell_type": "markdown",
   "id": "c0b3be06",
   "metadata": {},
   "source": [
    "#### Creating the Per 100 Possessions Stats Dataframe"
   ]
  },
  {
   "cell_type": "code",
   "execution_count": 11,
   "id": "b89dfbb6",
   "metadata": {},
   "outputs": [],
   "source": [
    "# Saving the html pages to a dataframe\n",
    "dfs = []\n",
    "for year in years:\n",
    "    with open(\"Basketball Reference/{}_Per_Poss.html\".format(year), encoding = \"utf-8\") as f:\n",
    "        page = f.read()\n",
    "    \n",
    "    soup = BeautifulSoup(page, 'html.parser')\n",
    "    per_poss_table = soup.find_all(id=\"per_poss_stats\")\n",
    "    per_poss_df = pd.read_html(str(per_poss_table))[0]\n",
    "    per_poss_df[\"Year\"] = year\n",
    "    dfs.append(per_poss_df)"
   ]
  },
  {
   "cell_type": "code",
   "execution_count": 12,
   "id": "c1fceb07",
   "metadata": {},
   "outputs": [],
   "source": [
    "per_poss = pd.concat(dfs)"
   ]
  },
  {
   "cell_type": "code",
   "execution_count": 13,
   "id": "6ee66b81",
   "metadata": {},
   "outputs": [],
   "source": [
    "# Save to csv\n",
    "per_poss.to_csv(r'Documents\\Per 100 Poss Stats.csv', index = False)"
   ]
  }
 ],
 "metadata": {
  "kernelspec": {
   "display_name": "Python 3 (ipykernel)",
   "language": "python",
   "name": "python3"
  },
  "language_info": {
   "codemirror_mode": {
    "name": "ipython",
    "version": 3
   },
   "file_extension": ".py",
   "mimetype": "text/x-python",
   "name": "python",
   "nbconvert_exporter": "python",
   "pygments_lexer": "ipython3",
   "version": "3.9.7"
  }
 },
 "nbformat": 4,
 "nbformat_minor": 5
}
